{
  "nbformat": 4,
  "nbformat_minor": 0,
  "metadata": {
    "colab": {
      "name": "PipJs.ipynb",
      "provenance": [],
      "collapsed_sections": [],
      "include_colab_link": true
    },
    "kernelspec": {
      "name": "python3",
      "display_name": "Python 3"
    }
  },
  "cells": [
    {
      "cell_type": "markdown",
      "metadata": {
        "id": "view-in-github",
        "colab_type": "text"
      },
      "source": [
        "<a href=\"https://colab.research.google.com/github/Daim-Nickel-Penny/codeinnovationseries-KIIT/blob/main/PipJs/PipJs.ipynb\" target=\"_parent\"><img src=\"https://colab.research.google.com/assets/colab-badge.svg\" alt=\"Open In Colab\"/></a>"
      ]
    },
    {
      "cell_type": "markdown",
      "metadata": {
        "id": "_Mq78LhA3nI8"
      },
      "source": [
        "# **Credit Card Risk Assessment**\r\n",
        "\r\n",
        "Developed by\r\n",
        "\r\n",
        "\r\n",
        "*   Manas Chandan Behera\r\n",
        "*   Mohammad Daim khan"
      ]
    },
    {
      "cell_type": "code",
      "metadata": {
        "id": "999DWHgl0_BE"
      },
      "source": [
        "import numpy as np\r\n",
        "import pandas as pd\r\n",
        "import seaborn as sns\r\n",
        "import matplotlib.pyplot as plt"
      ],
      "execution_count": null,
      "outputs": []
    },
    {
      "cell_type": "code",
      "metadata": {
        "id": "-yZ48siY2_CZ",
        "colab": {
          "base_uri": "https://localhost:8080/",
          "height": 222
        },
        "outputId": "4ae0a471-710e-4650-ad68-e51efa9acb40"
      },
      "source": [
        "credit_card_data=pd.read_csv('Credit_default_dataset.csv')\r\n",
        "credit_card_data.head(5)"
      ],
      "execution_count": null,
      "outputs": [
        {
          "output_type": "execute_result",
          "data": {
            "text/html": [
              "<div>\n",
              "<style scoped>\n",
              "    .dataframe tbody tr th:only-of-type {\n",
              "        vertical-align: middle;\n",
              "    }\n",
              "\n",
              "    .dataframe tbody tr th {\n",
              "        vertical-align: top;\n",
              "    }\n",
              "\n",
              "    .dataframe thead th {\n",
              "        text-align: right;\n",
              "    }\n",
              "</style>\n",
              "<table border=\"1\" class=\"dataframe\">\n",
              "  <thead>\n",
              "    <tr style=\"text-align: right;\">\n",
              "      <th></th>\n",
              "      <th>ID</th>\n",
              "      <th>LIMIT_BAL</th>\n",
              "      <th>SEX</th>\n",
              "      <th>EDUCATION</th>\n",
              "      <th>MARRIAGE</th>\n",
              "      <th>AGE</th>\n",
              "      <th>PAY_0</th>\n",
              "      <th>PAY_2</th>\n",
              "      <th>PAY_3</th>\n",
              "      <th>PAY_4</th>\n",
              "      <th>PAY_5</th>\n",
              "      <th>PAY_6</th>\n",
              "      <th>BILL_AMT1</th>\n",
              "      <th>BILL_AMT2</th>\n",
              "      <th>BILL_AMT3</th>\n",
              "      <th>BILL_AMT4</th>\n",
              "      <th>BILL_AMT5</th>\n",
              "      <th>BILL_AMT6</th>\n",
              "      <th>PAY_AMT1</th>\n",
              "      <th>PAY_AMT2</th>\n",
              "      <th>PAY_AMT3</th>\n",
              "      <th>PAY_AMT4</th>\n",
              "      <th>PAY_AMT5</th>\n",
              "      <th>PAY_AMT6</th>\n",
              "      <th>default.payment.next.month</th>\n",
              "    </tr>\n",
              "  </thead>\n",
              "  <tbody>\n",
              "    <tr>\n",
              "      <th>0</th>\n",
              "      <td>1</td>\n",
              "      <td>20000.0</td>\n",
              "      <td>2</td>\n",
              "      <td>2</td>\n",
              "      <td>1</td>\n",
              "      <td>24</td>\n",
              "      <td>2</td>\n",
              "      <td>2</td>\n",
              "      <td>-1</td>\n",
              "      <td>-1</td>\n",
              "      <td>-2</td>\n",
              "      <td>-2</td>\n",
              "      <td>3913.0</td>\n",
              "      <td>3102.0</td>\n",
              "      <td>689.0</td>\n",
              "      <td>0.0</td>\n",
              "      <td>0.0</td>\n",
              "      <td>0.0</td>\n",
              "      <td>0.0</td>\n",
              "      <td>689.0</td>\n",
              "      <td>0.0</td>\n",
              "      <td>0.0</td>\n",
              "      <td>0.0</td>\n",
              "      <td>0.0</td>\n",
              "      <td>1</td>\n",
              "    </tr>\n",
              "    <tr>\n",
              "      <th>1</th>\n",
              "      <td>2</td>\n",
              "      <td>120000.0</td>\n",
              "      <td>2</td>\n",
              "      <td>2</td>\n",
              "      <td>2</td>\n",
              "      <td>26</td>\n",
              "      <td>-1</td>\n",
              "      <td>2</td>\n",
              "      <td>0</td>\n",
              "      <td>0</td>\n",
              "      <td>0</td>\n",
              "      <td>2</td>\n",
              "      <td>2682.0</td>\n",
              "      <td>1725.0</td>\n",
              "      <td>2682.0</td>\n",
              "      <td>3272.0</td>\n",
              "      <td>3455.0</td>\n",
              "      <td>3261.0</td>\n",
              "      <td>0.0</td>\n",
              "      <td>1000.0</td>\n",
              "      <td>1000.0</td>\n",
              "      <td>1000.0</td>\n",
              "      <td>0.0</td>\n",
              "      <td>2000.0</td>\n",
              "      <td>1</td>\n",
              "    </tr>\n",
              "    <tr>\n",
              "      <th>2</th>\n",
              "      <td>3</td>\n",
              "      <td>90000.0</td>\n",
              "      <td>2</td>\n",
              "      <td>2</td>\n",
              "      <td>2</td>\n",
              "      <td>34</td>\n",
              "      <td>0</td>\n",
              "      <td>0</td>\n",
              "      <td>0</td>\n",
              "      <td>0</td>\n",
              "      <td>0</td>\n",
              "      <td>0</td>\n",
              "      <td>29239.0</td>\n",
              "      <td>14027.0</td>\n",
              "      <td>13559.0</td>\n",
              "      <td>14331.0</td>\n",
              "      <td>14948.0</td>\n",
              "      <td>15549.0</td>\n",
              "      <td>1518.0</td>\n",
              "      <td>1500.0</td>\n",
              "      <td>1000.0</td>\n",
              "      <td>1000.0</td>\n",
              "      <td>1000.0</td>\n",
              "      <td>5000.0</td>\n",
              "      <td>0</td>\n",
              "    </tr>\n",
              "    <tr>\n",
              "      <th>3</th>\n",
              "      <td>4</td>\n",
              "      <td>50000.0</td>\n",
              "      <td>2</td>\n",
              "      <td>2</td>\n",
              "      <td>1</td>\n",
              "      <td>37</td>\n",
              "      <td>0</td>\n",
              "      <td>0</td>\n",
              "      <td>0</td>\n",
              "      <td>0</td>\n",
              "      <td>0</td>\n",
              "      <td>0</td>\n",
              "      <td>46990.0</td>\n",
              "      <td>48233.0</td>\n",
              "      <td>49291.0</td>\n",
              "      <td>28314.0</td>\n",
              "      <td>28959.0</td>\n",
              "      <td>29547.0</td>\n",
              "      <td>2000.0</td>\n",
              "      <td>2019.0</td>\n",
              "      <td>1200.0</td>\n",
              "      <td>1100.0</td>\n",
              "      <td>1069.0</td>\n",
              "      <td>1000.0</td>\n",
              "      <td>0</td>\n",
              "    </tr>\n",
              "    <tr>\n",
              "      <th>4</th>\n",
              "      <td>5</td>\n",
              "      <td>50000.0</td>\n",
              "      <td>1</td>\n",
              "      <td>2</td>\n",
              "      <td>1</td>\n",
              "      <td>57</td>\n",
              "      <td>-1</td>\n",
              "      <td>0</td>\n",
              "      <td>-1</td>\n",
              "      <td>0</td>\n",
              "      <td>0</td>\n",
              "      <td>0</td>\n",
              "      <td>8617.0</td>\n",
              "      <td>5670.0</td>\n",
              "      <td>35835.0</td>\n",
              "      <td>20940.0</td>\n",
              "      <td>19146.0</td>\n",
              "      <td>19131.0</td>\n",
              "      <td>2000.0</td>\n",
              "      <td>36681.0</td>\n",
              "      <td>10000.0</td>\n",
              "      <td>9000.0</td>\n",
              "      <td>689.0</td>\n",
              "      <td>679.0</td>\n",
              "      <td>0</td>\n",
              "    </tr>\n",
              "  </tbody>\n",
              "</table>\n",
              "</div>"
            ],
            "text/plain": [
              "   ID  LIMIT_BAL  SEX  ...  PAY_AMT5  PAY_AMT6  default.payment.next.month\n",
              "0   1    20000.0    2  ...       0.0       0.0                           1\n",
              "1   2   120000.0    2  ...       0.0    2000.0                           1\n",
              "2   3    90000.0    2  ...    1000.0    5000.0                           0\n",
              "3   4    50000.0    2  ...    1069.0    1000.0                           0\n",
              "4   5    50000.0    1  ...     689.0     679.0                           0\n",
              "\n",
              "[5 rows x 25 columns]"
            ]
          },
          "metadata": {
            "tags": []
          },
          "execution_count": 2
        }
      ]
    },
    {
      "cell_type": "code",
      "metadata": {
        "id": "X6bBHTD23A25"
      },
      "source": [
        "## ID is just a column Which is unique for all so no need of using this . \r\n",
        "credit_card_data = credit_card_data.drop([\"ID\"],axis=1)"
      ],
      "execution_count": null,
      "outputs": []
    },
    {
      "cell_type": "code",
      "metadata": {
        "id": "ai_w6kL03ELH"
      },
      "source": [
        "\r\n",
        "credit_card_data.rename(columns={'PAY_0':'PAY_1'}, inplace=True) ## Since there is no pay 1 it will be convenient \r\n",
        "# if we could make that to pay_1"
      ],
      "execution_count": null,
      "outputs": []
    },
    {
      "cell_type": "code",
      "metadata": {
        "id": "cNrSkkvl3F55",
        "colab": {
          "base_uri": "https://localhost:8080/"
        },
        "outputId": "50e038c8-82cf-460d-84c4-73012be3b0e4"
      },
      "source": [
        "credit_card_data['EDUCATION'].value_counts() \r\n",
        "# Education according to the data description is a categorical Data Let us check it out "
      ],
      "execution_count": null,
      "outputs": [
        {
          "output_type": "execute_result",
          "data": {
            "text/plain": [
              "2    14030\n",
              "1    10585\n",
              "3     4917\n",
              "5      280\n",
              "4      123\n",
              "6       51\n",
              "0       14\n",
              "Name: EDUCATION, dtype: int64"
            ]
          },
          "metadata": {
            "tags": []
          },
          "execution_count": 5
        }
      ]
    },
    {
      "cell_type": "code",
      "metadata": {
        "colab": {
          "base_uri": "https://localhost:8080/"
        },
        "id": "w_PxePpWNmYf",
        "outputId": "0323f94d-573a-483d-af5d-4fa119072a47"
      },
      "source": [
        "credit_card_data['MARRIAGE'].value_counts()\r\n",
        "# Marriage according to the data description is a categorical Data Let us check it out "
      ],
      "execution_count": null,
      "outputs": [
        {
          "output_type": "execute_result",
          "data": {
            "text/plain": [
              "2    15964\n",
              "1    13659\n",
              "3      323\n",
              "0       54\n",
              "Name: MARRIAGE, dtype: int64"
            ]
          },
          "metadata": {
            "tags": []
          },
          "execution_count": 6
        }
      ]
    },
    {
      "cell_type": "markdown",
      "metadata": {
        "id": "Av4qf8LjKVGl"
      },
      "source": [
        "According to the dataset Description the meaning of number are : 1=graduate school, 2=university, 3=high school, 4=others, 5=unknown, 6=unknown . \r\n",
        "<br> For Marriage : 1=married, 2=single, 3=others\r\n",
        "<br> We came up with the solution to map the last unknows to the others section only for reducing the features"
      ]
    },
    {
      "cell_type": "code",
      "metadata": {
        "id": "DKT8XXy63Jsm"
      },
      "source": [
        "credit_card_data[\"EDUCATION\"]=credit_card_data[\"EDUCATION\"].map({0:4,1:1,2:2,3:3,4:4,5:4,6:4})\r\n",
        "credit_card_data[\"MARRIAGE\"]=credit_card_data[\"MARRIAGE\"].map({0:3,1:1,2:2,3:3})"
      ],
      "execution_count": null,
      "outputs": []
    },
    {
      "cell_type": "markdown",
      "metadata": {
        "id": "wBciNoINONPK"
      },
      "source": [
        "Since we are planning to use the xgboost boosting algorithm it is mandatory for us to use the standard scaling for the whole dataset to have the values in certain range"
      ]
    },
    {
      "cell_type": "code",
      "metadata": {
        "colab": {
          "base_uri": "https://localhost:8080/",
          "height": 395
        },
        "id": "8_seEk6rIU_w",
        "outputId": "95ba4b23-3438-483e-b9f9-22c7a93cd27c"
      },
      "source": [
        "credit_card_data_1 = credit_card_data.copy()\r\n",
        "def_cnt = (credit_card_data_1['default.payment.next.month'].value_counts(normalize=True)*100)\r\n",
        "def_cnt.plot.bar(figsize=(6,6))\r\n",
        "plt.xticks(fontsize=12, rotation=0)\r\n",
        "plt.yticks(fontsize=12)\r\n",
        "plt.title(\"Probability Of Defaulting Payment Next Month\", fontsize=15)\r\n",
        "for x,y in zip([0,1],def_cnt):\r\n",
        "    plt.text(x,y,y,fontsize=12)\r\n",
        "plt.show()"
      ],
      "execution_count": null,
      "outputs": [
        {
          "output_type": "display_data",
          "data": {
            "image/png": "[encoded data removed]",
            "text/plain": [
              "<Figure size 432x432 with 1 Axes>"
            ]
          },
          "metadata": {
            "tags": [],
            "needs_background": "light"
          }
        }
      ]
    },
    {
      "cell_type": "code",
      "metadata": {
        "colab": {
          "base_uri": "https://localhost:8080/",
          "height": 341
        },
        "id": "LklqaivOJYpL",
        "outputId": "8ee39168-d93f-4802-8b2f-173b82007cd8"
      },
      "source": [
        "credit_card_data_1 = credit_card_data.copy()\r\n",
        "bins = [20,30,40,50,60,70,80]\r\n",
        "names = ['21-30','31-40','41-50','51-60','61-70','71-80']\r\n",
        "credit_card_data_1['AGE_BIN'] = pd.cut(x=credit_card_data_1.AGE, bins=bins, labels=names, right=True)\r\n",
        "\r\n",
        "age_cnt = credit_card_data_1.AGE_BIN.value_counts()\r\n",
        "age_0 = (credit_card_data_1.AGE_BIN[credit_card_data_1['default.payment.next.month'] == 0].value_counts())\r\n",
        "age_1 = (credit_card_data_1.AGE_BIN[credit_card_data_1['default.payment.next.month'] == 1].value_counts())\r\n",
        "\r\n",
        "plt.subplots(figsize=(8,5))\r\n",
        "# sns.barplot(data=defaulters, x='AGE_BIN', y='LIMIT_BAL', hue='def_pay', ci=0)\r\n",
        "plt.bar(age_0.index, age_0.values, label='0')\r\n",
        "plt.bar(age_1.index, age_1.values, label='1')\r\n",
        "for x,y in zip(names,age_0):\r\n",
        "    plt.text(x,y,y,fontsize=12)\r\n",
        "for x,y in zip(names,age_1):\r\n",
        "    plt.text(x,y,y,fontsize=12)\r\n",
        "plt.xticks(fontsize=12)\r\n",
        "plt.yticks(fontsize=12)\r\n",
        "plt.title(\"Number of clients in each age group\", fontsize=15)\r\n",
        "plt.legend(loc='upper right', fontsize=15)\r\n",
        "plt.show()"
      ],
      "execution_count": null,
      "outputs": [
        {
          "output_type": "display_data",
          "data": {
            "image/png": "[encoded data removed]",
            "text/plain": [
              "<Figure size 576x360 with 1 Axes>"
            ]
          },
          "metadata": {
            "tags": [],
            "needs_background": "light"
          }
        }
      ]
    },
    {
      "cell_type": "code",
      "metadata": {
        "colab": {
          "base_uri": "https://localhost:8080/",
          "height": 739
        },
        "id": "3hDnRSZkKUK-",
        "outputId": "036cd342-7e6f-4cc1-cce8-5fc3b401d31c"
      },
      "source": [
        "credit_card_data_1 = credit_card_data.copy()\r\n",
        "k = 10 #number of variables for heatmap\r\n",
        "corrmat = credit_card_data_1.corr()\r\n",
        "cols = corrmat.nlargest(k, 'default.payment.next.month')['default.payment.next.month'].index\r\n",
        "cm = np.corrcoef(credit_card_data_1[cols].values.T)\r\n",
        "sns.set(font_scale=1.25)\r\n",
        "plt.subplots(figsize=(10,10))\r\n",
        "hm = sns.heatmap(cm, cbar=True, annot=True, square=True, fmt='.2f', annot_kws={'size': 10}, yticklabels=cols.values, xticklabels=cols.values)\r\n",
        "plt.show()"
      ],
      "execution_count": null,
      "outputs": [
        {
          "output_type": "display_data",
          "data": {
            "image/png": "[encoded data removed]",
            "text/plain": [
              "<Figure size 720x720 with 2 Axes>"
            ]
          },
          "metadata": {
            "tags": []
          }
        }
      ]
    },
    {
      "cell_type": "code",
      "metadata": {
        "id": "ChkwOTbm3KUs"
      },
      "source": [
        "from sklearn.preprocessing import StandardScaler\r\n",
        "scaling=StandardScaler()\r\n",
        "X=credit_card_data.drop(['default.payment.next.month'],axis=1)\r\n",
        "X=scaling.fit_transform(X)"
      ],
      "execution_count": null,
      "outputs": []
    },
    {
      "cell_type": "code",
      "metadata": {
        "id": "zlryZ-1V3KSg"
      },
      "source": [
        "y=credit_card_data['default.payment.next.month']"
      ],
      "execution_count": null,
      "outputs": []
    },
    {
      "cell_type": "markdown",
      "metadata": {
        "id": "voVIM7sVO1sz"
      },
      "source": [
        "The above two code cells clearly separates the X and Y that could be used for training purpose . But we will split them more so that they could be used for the purpose of the validating the values "
      ]
    },
    {
      "cell_type": "code",
      "metadata": {
        "id": "Mq_D32Q_POf1"
      },
      "source": [
        "from sklearn.model_selection import train_test_split\r\n",
        "X_train, X_test, y_train, y_test = train_test_split(X, y, test_size=0.25, random_state=42)"
      ],
      "execution_count": null,
      "outputs": []
    },
    {
      "cell_type": "code",
      "metadata": {
        "id": "AY_iypx73KP2"
      },
      "source": [
        "from sklearn.model_selection import RandomizedSearchCV, GridSearchCV\r\n",
        "import xgboost"
      ],
      "execution_count": null,
      "outputs": []
    },
    {
      "cell_type": "markdown",
      "metadata": {
        "id": "yXHVVuCJP6eA"
      },
      "source": [
        "\\The Below function is just written to have the time taken by the optimizor to work ."
      ]
    },
    {
      "cell_type": "code",
      "metadata": {
        "colab": {
          "base_uri": "https://localhost:8080/"
        },
        "id": "iuh2rmqDP5o8",
        "outputId": "6cfed947-78a2-49ef-a0e0-08c432de8265"
      },
      "source": [
        "print(X_train.shape,X_test.shape,y_train.shape,y_test.shape)"
      ],
      "execution_count": null,
      "outputs": [
        {
          "output_type": "stream",
          "text": [
            "(22500, 23) (7500, 23) (22500,) (7500,)\n"
          ],
          "name": "stdout"
        }
      ]
    },
    {
      "cell_type": "code",
      "metadata": {
        "id": "gy1CRIjd3JnP"
      },
      "source": [
        "def timer(start_time=None):\r\n",
        "    if not start_time:\r\n",
        "        start_time = datetime.now()\r\n",
        "        return start_time\r\n",
        "    elif start_time:\r\n",
        "        thour, temp_sec = divmod((datetime.now() - start_time).total_seconds(), 3600)\r\n",
        "        tmin, tsec = divmod(temp_sec, 60)\r\n",
        "        print('\\n Time taken: %i hours %i minutes and %s seconds.' % (thour, tmin, round(tsec, 2)))"
      ],
      "execution_count": null,
      "outputs": []
    },
    {
      "cell_type": "code",
      "metadata": {
        "id": "MjCtperQRBow"
      },
      "source": [
        "## Hyper Parameter Optimization\r\n",
        "\r\n",
        "params={\r\n",
        " \"learning_rate\"    : [0.05, 0.10, 0.15, 0.20, 0.25, 0.30 ] ,\r\n",
        " \"max_depth\"        : [ 3, 4, 5, 6, 8, 10, 12, 15],\r\n",
        " \"min_child_weight\" : [ 1, 3, 5, 7 ],\r\n",
        " \"gamma\"            : [ 0.0, 0.1, 0.2 , 0.3, 0.4 ],\r\n",
        " \"colsample_bytree\" : [ 0.3, 0.4, 0.5 , 0.7 ]\r\n",
        "    \r\n",
        "}"
      ],
      "execution_count": null,
      "outputs": []
    },
    {
      "cell_type": "code",
      "metadata": {
        "id": "bkzcVv753U4o"
      },
      "source": [
        "classifier=xgboost.XGBClassifier()"
      ],
      "execution_count": null,
      "outputs": []
    },
    {
      "cell_type": "code",
      "metadata": {
        "id": "LJ7isqRE3U2p"
      },
      "source": [
        "random_search=RandomizedSearchCV(classifier,param_distributions=params,n_iter=3,scoring='roc_auc',n_jobs=-1,cv=5,verbose=3)"
      ],
      "execution_count": null,
      "outputs": []
    },
    {
      "cell_type": "code",
      "metadata": {
        "id": "nDmgeEO83U0r",
        "colab": {
          "base_uri": "https://localhost:8080/"
        },
        "outputId": "e6075477-72e0-47a0-cfc3-5d95473f249f"
      },
      "source": [
        "from datetime import datetime\r\n",
        "# Here we go\r\n",
        "start_time = timer(None) # timing starts from this point for \"start_time\" variable\r\n",
        "random_search.fit(X_train,y_train)\r\n",
        "timer(start_time) # timing ends here for \"start_time\" variable"
      ],
      "execution_count": null,
      "outputs": [
        {
          "output_type": "stream",
          "text": [
            "Fitting 5 folds for each of 3 candidates, totalling 15 fits\n"
          ],
          "name": "stdout"
        },
        {
          "output_type": "stream",
          "text": [
            "[Parallel(n_jobs=-1)]: Using backend LokyBackend with 2 concurrent workers.\n",
            "[Parallel(n_jobs=-1)]: Done  15 out of  15 | elapsed:   22.4s finished\n"
          ],
          "name": "stderr"
        },
        {
          "output_type": "stream",
          "text": [
            "\n",
            " Time taken: 0 hours 0 minutes and 24.53 seconds.\n"
          ],
          "name": "stdout"
        }
      ]
    },
    {
      "cell_type": "code",
      "metadata": {
        "id": "hn-hobuG3UyM",
        "colab": {
          "base_uri": "https://localhost:8080/"
        },
        "outputId": "7a96cc2b-a4b6-4c4c-8c1e-d1f498a97819"
      },
      "source": [
        "random_search.best_estimator_"
      ],
      "execution_count": null,
      "outputs": [
        {
          "output_type": "execute_result",
          "data": {
            "text/plain": [
              "XGBClassifier(base_score=0.5, booster='gbtree', colsample_bylevel=1,\n",
              "              colsample_bynode=1, colsample_bytree=0.5, gamma=0.2,\n",
              "              learning_rate=0.2, max_delta_step=0, max_depth=4,\n",
              "              min_child_weight=1, missing=None, n_estimators=100, n_jobs=1,\n",
              "              nthread=None, objective='binary:logistic', random_state=0,\n",
              "              reg_alpha=0, reg_lambda=1, scale_pos_weight=1, seed=None,\n",
              "              silent=None, subsample=1, verbosity=1)"
            ]
          },
          "metadata": {
            "tags": []
          },
          "execution_count": 21
        }
      ]
    },
    {
      "cell_type": "code",
      "metadata": {
        "id": "nvfi28Xx3Uvt",
        "colab": {
          "base_uri": "https://localhost:8080/"
        },
        "outputId": "48b09a50-a3d6-43b0-b204-f26c8f04dc0a"
      },
      "source": [
        "random_search.best_params_"
      ],
      "execution_count": null,
      "outputs": [
        {
          "output_type": "execute_result",
          "data": {
            "text/plain": [
              "{'colsample_bytree': 0.5,\n",
              " 'gamma': 0.2,\n",
              " 'learning_rate': 0.2,\n",
              " 'max_depth': 4,\n",
              " 'min_child_weight': 1}"
            ]
          },
          "metadata": {
            "tags": []
          },
          "execution_count": 22
        }
      ]
    },
    {
      "cell_type": "code",
      "metadata": {
        "id": "gAkoTuA13UtG"
      },
      "source": [
        "best_classifier=xgboost.XGBClassifier(base_score=0.5, booster='gbtree', colsample_bylevel=1,\r\n",
        "              colsample_bynode=1, colsample_bytree=0.4, gamma=0.3,\r\n",
        "              learning_rate=0.15, max_delta_step=0, max_depth=4,\r\n",
        "              min_child_weight=1, missing=None, n_estimators=100, n_jobs=1,\r\n",
        "              nthread=None, objective='binary:logistic', random_state=0,\r\n",
        "              reg_alpha=0, reg_lambda=1, scale_pos_weight=1, seed=None,\r\n",
        "              silent=None, subsample=1, verbosity=1)"
      ],
      "execution_count": null,
      "outputs": []
    },
    {
      "cell_type": "code",
      "metadata": {
        "colab": {
          "base_uri": "https://localhost:8080/"
        },
        "id": "dfIcK-uzTFv3",
        "outputId": "e72dc743-502d-4bee-e332-18717b1c4c94"
      },
      "source": [
        "best_classifier.fit(X_train,y_train)"
      ],
      "execution_count": null,
      "outputs": [
        {
          "output_type": "execute_result",
          "data": {
            "text/plain": [
              "XGBClassifier(base_score=0.5, booster='gbtree', colsample_bylevel=1,\n",
              "              colsample_bynode=1, colsample_bytree=0.4, gamma=0.3,\n",
              "              learning_rate=0.15, max_delta_step=0, max_depth=4,\n",
              "              min_child_weight=1, missing=None, n_estimators=100, n_jobs=1,\n",
              "              nthread=None, objective='binary:logistic', random_state=0,\n",
              "              reg_alpha=0, reg_lambda=1, scale_pos_weight=1, seed=None,\n",
              "              silent=None, subsample=1, verbosity=1)"
            ]
          },
          "metadata": {
            "tags": []
          },
          "execution_count": 24
        }
      ]
    },
    {
      "cell_type": "code",
      "metadata": {
        "id": "Hr-VmdfrSLqN"
      },
      "source": [
        "from sklearn.metrics import confusion_matrix\r\n",
        "import matplotlib.pyplot as plt\r\n",
        "import matplotlib.colors as colors\r\n",
        "from sklearn.metrics import plot_confusion_matrix"
      ],
      "execution_count": null,
      "outputs": []
    },
    {
      "cell_type": "code",
      "metadata": {
        "id": "wDtdGbzOSUSl"
      },
      "source": [
        "y_pred = best_classifier.predict(X_test)\r\n",
        "predictions = [round(value) for value in y_pred]"
      ],
      "execution_count": null,
      "outputs": []
    },
    {
      "cell_type": "code",
      "metadata": {
        "colab": {
          "base_uri": "https://localhost:8080/"
        },
        "id": "iGJxiCKmS9GV",
        "outputId": "8c988c3e-3b62-4b4f-cabf-8607085b72bb"
      },
      "source": [
        "from sklearn.metrics import accuracy_score\r\n",
        "accuracy = accuracy_score(y_test, predictions)\r\n",
        "print(\"Accuracy: %.2f%%\" % (accuracy * 100.0))"
      ],
      "execution_count": null,
      "outputs": [
        {
          "output_type": "stream",
          "text": [
            "Accuracy: 82.00%\n"
          ],
          "name": "stdout"
        }
      ]
    },
    {
      "cell_type": "code",
      "metadata": {
        "id": "JO7eugz1TY3F",
        "colab": {
          "base_uri": "https://localhost:8080/",
          "height": 309
        },
        "outputId": "4dec8fca-a948-4697-bfc9-c3015e6817bf"
      },
      "source": [
        "from sklearn.metrics import confusion_matrix\r\n",
        "import matplotlib.pyplot as plt\r\n",
        "import matplotlib.colors as colors\r\n",
        "from sklearn.metrics import plot_confusion_matrix\r\n",
        "plot_confusion_matrix(best_classifier,X_test,y_test,values_format ='d',display_labels = [\"did not default\",\"defaulted\"])"
      ],
      "execution_count": null,
      "outputs": [
        {
          "output_type": "execute_result",
          "data": {
            "text/plain": [
              "<sklearn.metrics._plot.confusion_matrix.ConfusionMatrixDisplay at 0x7f4e3abb8080>"
            ]
          },
          "metadata": {
            "tags": []
          },
          "execution_count": 29
        },
        {
          "output_type": "display_data",
          "data": {
            "image/png": "[encoded data removed]",
            "text/plain": [
              "<Figure size 432x288 with 2 Axes>"
            ]
          },
          "metadata": {
            "tags": []
          }
        }
      ]
    },
    {
      "cell_type": "code",
      "metadata": {
        "id": "RQ2UiiyRNGkR"
      },
      "source": [
        "import pickle\r\n",
        "filename = 'PipJs.pkl'\r\n",
        "pickle.dump(best_classifier, open(filename, 'wb'))"
      ],
      "execution_count": null,
      "outputs": []
    },
    {
      "cell_type": "code",
      "metadata": {
        "colab": {
          "base_uri": "https://localhost:8080/"
        },
        "id": "CNhSgY1VOS6l",
        "outputId": "ee6949ec-dad6-4e82-9dc5-a48f1201c43b"
      },
      "source": [
        "loaded_model = pickle.load(open(filename, 'rb'))\r\n",
        "result = loaded_model.score(X_test, y_test)\r\n",
        "print(result)"
      ],
      "execution_count": null,
      "outputs": [
        {
          "output_type": "stream",
          "text": [
            "0.82\n"
          ],
          "name": "stdout"
        }
      ]
    },
    {
      "cell_type": "code",
      "metadata": {
        "id": "_UvAYlw6Ogvg"
      },
      "source": [
        ""
      ],
      "execution_count": null,
      "outputs": []
    }
  ]
}